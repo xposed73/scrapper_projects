{
  "nbformat": 4,
  "nbformat_minor": 0,
  "metadata": {
    "colab": {
      "provenance": [],
      "authorship_tag": "ABX9TyNhYVD+k1OLe+KVirMQRTSN"
    },
    "kernelspec": {
      "name": "python3",
      "display_name": "Python 3"
    },
    "language_info": {
      "name": "python"
    }
  },
  "cells": [
    {
      "cell_type": "code",
      "execution_count": null,
      "metadata": {
        "id": "74C6zEQ7UINZ"
      },
      "outputs": [],
      "source": [
        "!pip install google-play-scraper"
      ]
    },
    {
      "cell_type": "code",
      "source": [
        "from google_play_scraper import app, Sort"
      ],
      "metadata": {
        "id": "Qt4DhpDdURRC"
      },
      "execution_count": null,
      "outputs": []
    },
    {
      "cell_type": "code",
      "source": [
        "from google_play_scraper import app\n",
        "import json\n",
        "\n",
        "app_urls = [\n",
        "    \"https://play.google.com/store/apps/details?id=com.app.ClassicOldies80s90s\",\n",
        "    # ... (other URLs)\n",
        "]\n",
        "\n",
        "app_info_list = []\n",
        "\n",
        "for app_url in app_urls:\n",
        "    package_name = app_url.split('=')[-1]\n",
        "    info = app(package_name)\n",
        "    app_info_list.append(info)\n",
        "\n",
        "app_details = []\n",
        "\n",
        "for app_info in app_info_list:\n",
        "    name = app_info['title']\n",
        "    url = app_info['url']\n",
        "    icon = app_info['icon']\n",
        "    screenshots = app_info['screenshots']\n",
        "\n",
        "    app_details.append({\n",
        "        'name': name,\n",
        "        'url': url,\n",
        "        'icon': icon,\n",
        "        'screenshots': screenshots\n",
        "    })\n",
        "\n",
        "# Save the app details as JSON\n",
        "with open('app_details.json', 'w') as json_file:\n",
        "    json.dump(app_details, json_file, indent=4)\n",
        "\n",
        "print(\"App details saved to app_details.json\")\n"
      ],
      "metadata": {
        "id": "OoQuyo47YZLE"
      },
      "execution_count": null,
      "outputs": []
    }
  ]
}