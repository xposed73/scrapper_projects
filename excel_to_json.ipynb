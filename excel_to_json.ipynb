{
  "nbformat": 4,
  "nbformat_minor": 0,
  "metadata": {
    "colab": {
      "provenance": [],
      "authorship_tag": "ABX9TyNxu7eJOGpR/gl/gn+GA8lX"
    },
    "kernelspec": {
      "name": "python3",
      "display_name": "Python 3"
    },
    "language_info": {
      "name": "python"
    }
  },
  "cells": [
    {
      "cell_type": "code",
      "execution_count": null,
      "metadata": {
        "id": "4IRsOBFtJEdG"
      },
      "outputs": [],
      "source": [
        "from google.colab import files\n",
        "uploaded = files.upload()\n"
      ]
    },
    {
      "cell_type": "code",
      "source": [
        "!pip install pandas\n"
      ],
      "metadata": {
        "id": "oSDjIk8tJTWn"
      },
      "execution_count": null,
      "outputs": []
    },
    {
      "cell_type": "code",
      "source": [
        "import pandas as pd\n",
        "\n",
        "# Replace 'your_excel_file.xlsx' with the actual name of your uploaded Excel file\n",
        "excel_file_path = 'data.xlsx'\n",
        "\n",
        "# Read the Excel file into a pandas DataFrame\n",
        "df = pd.read_excel(excel_file_path)\n",
        "\n",
        "# Convert DataFrame to JSON\n",
        "json_data = df.to_json(orient='records')\n",
        "\n",
        "# Print or save the JSON data\n",
        "print(json_data)\n"
      ],
      "metadata": {
        "id": "1Rh4jdO3JWfF"
      },
      "execution_count": null,
      "outputs": []
    },
    {
      "cell_type": "code",
      "source": [
        "with open('output.json', 'w') as json_file:\n",
        "    json_file.write(json_data)\n"
      ],
      "metadata": {
        "id": "Rsv9xjWWJf8e"
      },
      "execution_count": null,
      "outputs": []
    }
  ]
}