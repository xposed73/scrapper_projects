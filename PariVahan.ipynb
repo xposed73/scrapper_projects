{
  "nbformat": 4,
  "nbformat_minor": 0,
  "metadata": {
    "colab": {
      "provenance": [],
      "authorship_tag": "ABX9TyOS8xiBcIa/85buJmCwq2gv"
    },
    "kernelspec": {
      "name": "python3",
      "display_name": "Python 3"
    },
    "language_info": {
      "name": "python"
    }
  },
  "cells": [
    {
      "cell_type": "code",
      "source": [
        "import sys\n",
        "import re\n",
        "import requests\n",
        "from bs4 import BeautifulSoup, SoupStrainer"
      ],
      "metadata": {
        "id": "8k_jIzlt6Iai"
      },
      "execution_count": null,
      "outputs": []
    },
    {
      "cell_type": "code",
      "source": [
        "home_url = 'https://parivahan.gov.in/rcdlstatus/?pur_cd=102'\n",
        "post_url = 'https://parivahan.gov.in/rcdlstatus/vahan/rcDlHome.xhtml'"
      ],
      "metadata": {
        "id": "dpmuayK16dSH"
      },
      "execution_count": null,
      "outputs": []
    },
    {
      "cell_type": "code",
      "source": [
        "# Manually enter the vehicle registration numbers\n",
        "first = input(\"Enter the first part of the vehicle registration number: \")\n",
        "second = input(\"Enter the second part of the vehicle registration number: \")"
      ],
      "metadata": {
        "id": "Bcz06XGiADQm"
      },
      "execution_count": null,
      "outputs": []
    },
    {
      "cell_type": "code",
      "source": [
        "r = requests.get(url=home_url)\n",
        "cookies = r.cookies\n",
        "soup = BeautifulSoup(r.text, 'html.parser')\n",
        "viewstate = soup.select('input[name=\"javax.faces.ViewState\"]')[0]['value']"
      ],
      "metadata": {
        "id": "ags4UJeh6lKh"
      },
      "execution_count": null,
      "outputs": []
    },
    {
      "cell_type": "code",
      "source": [
        "button_id = None\n",
        "for match in soup.find_all('button', id=lambda x: x and x.startswith('form_rcdl')):\n",
        "    if button_id is None:\n",
        "        button_id = match.get('id')"
      ],
      "metadata": {
        "id": "yFsJk_yLAH3X"
      },
      "execution_count": null,
      "outputs": []
    },
    {
      "cell_type": "code",
      "source": [
        "data = {\n",
        "    'javax.faces.partial.ajax': 'true',\n",
        "    'javax.faces.source': button_id,\n",
        "    'javax.faces.partial.execute': '@ALL',\n",
        "    'javax.faces.partial.render': 'form_rcdl:pnl_show form_rcdl:pg_show form_rcdl:rcdl_pnl', button_id: button_id,\n",
        "    'form_rcdl': 'form_rcdl',\n",
        "    'form_rcdl:tf_reg_no1': first,\n",
        "    'form_rcdl:tf_reg_no2': second,\n",
        "    'javax.faces.ViewState': viewstate,\n",
        "}"
      ],
      "metadata": {
        "id": "wnJAlXtU6wEv"
      },
      "execution_count": null,
      "outputs": []
    },
    {
      "cell_type": "code",
      "execution_count": null,
      "metadata": {
        "id": "wySdMo606EbI"
      },
      "outputs": [],
      "source": [
        "r = requests.post(url=post_url, data=data, cookies=cookies)\n",
        "soup = BeautifulSoup(r.text, 'html.parser')\n",
        "table = SoupStrainer('tr')\n",
        "soup = BeautifulSoup(soup.get_text(), 'html.parser', parse_only=table)"
      ]
    },
    {
      "cell_type": "code",
      "source": [
        "# Prettify the output HTML before printing\n",
        "prettified_output = soup.prettify()\n",
        "print(prettified_output)"
      ],
      "metadata": {
        "id": "3g6FJjfoARAC"
      },
      "execution_count": null,
      "outputs": []
    },
    {
      "cell_type": "code",
      "source": [
        "!apt-get install -y python3-tk  # Install the tkinter package in Colab\n"
      ],
      "metadata": {
        "id": "doJK7r0sC_ZK"
      },
      "execution_count": null,
      "outputs": []
    },
    {
      "cell_type": "code",
      "source": [
        "import tkinter as tk"
      ],
      "metadata": {
        "id": "c1JNVm1DDXr3"
      },
      "execution_count": null,
      "outputs": []
    },
    {
      "cell_type": "code",
      "source": [
        "from tk import *\n",
        "#import mysql.connectora\n",
        "#from tkinter import ttk\n",
        "#from PIL import Image, ImageTk\n",
        "import re\n",
        "from tkinter import messagebox\n",
        "\n",
        "class DL:\n",
        "    def __init__(self,window):\n",
        "        self.window = window\n",
        "        self.window.title('Know Your Driving License Status')\n",
        "        self.window.geometry(\"1300x770+0+0\")\n",
        "        self.window.minsize(1300, 770)\n",
        "        self.window.maxsize(1300, 770)\n",
        "\n",
        "        canvas = Canvas(relief=RIDGE, background='blue', height=50, width=1300)\n",
        "        canvas.place(x=0, y=0)\n",
        "        btn1 = Button(window, text='Home', width=5,\n",
        "                      height=1, bg='blue', fg='white', command=window.destroy, activebackground='black',\n",
        "                      font=('Helvetica', 12))\n",
        "        btn1.place(x=670, y=13)\n",
        "\n",
        "        btn2 = Button(window, text='Skip to main content ', width=15,\n",
        "                      height=1, bg='blue', fg='white', activebackground='black', font=('Helvetica', 12))\n",
        "        btn2.place(x=730, y=13)\n",
        "\n",
        "        btn3 = Button(window, text='Skip to navigation', width=15,\n",
        "                      height=1, bg='blue', fg='white', activebackground='black', font=('Helvetica', 12))\n",
        "        btn3.place(x=880, y=13)\n",
        "\n",
        "        btn4 = Button(window, text='A+', width=5,\n",
        "                      height=1, bg='blue', fg='white', activebackground='black', font=('Helvetica', 12))\n",
        "        btn4.place(x=1150, y=13)\n",
        "\n",
        "        btn5 = Button(window, text='A', width=5,\n",
        "                      height=1, bg='blue', fg='white', activebackground='black', font=('Helvetica', 12))\n",
        "        btn5.place(x=1100, y=13)\n",
        "\n",
        "        btn6 = Button(window, text='A-', width=5,\n",
        "                      height=1, bg='blue', fg='white', activebackground='black', font=('Helvetica', 12))\n",
        "        btn6.place(x=1050, y=13)\n",
        "\n",
        "        canvas1 = Canvas(relief=RIDGE, background='white', height=100, width=1300)\n",
        "        canvas1.place(x=0, y=50)\n",
        "\n",
        "        photo1 = PhotoImage(file=r\"C:\\Users\\DELL\\PycharmProjects\\DRIVING LICENSE\\images\\logo.jpg\")\n",
        "        logo = Label(self.window, text='yes', image=photo1)\n",
        "\n",
        "        line = canvas1.create_line(320, 0, 320, 200)\n",
        "        te = canvas1.create_text(700, 50,\n",
        "                                 text=\"                   Goverment of India \\n MINISTRY OF ROAD TRANSPORT & HIGHWAYS\",\n",
        "                                 fill=\"black\", font=('Helvetica 15 bold'))\n",
        "\n",
        "        # photo123 = PhotoImage(file = r\"C:\\Users\\DELL\\PycharmProjects\\pythonProject\\as.jpg\")\n",
        "        # flag = Label(window, image = photo123)\n",
        "        # flag.configure(height = 225 , width = 225)\n",
        "\n",
        "        canvas = Canvas(relief=RIDGE, bd=2, background='dark blue', height=30, width=1300)\n",
        "        canvas.place(x=0, y=150)\n",
        "\n",
        "        canvas3 = Canvas(window, bg='light gray', bd=6, height=520, width=1100)\n",
        "        canvas3.place(x=100, y=210)\n",
        "\n",
        "        canvas4 = Canvas(relief=RIDGE, background='light blue', height=40, width=1090)\n",
        "        canvas4.place(x=110, y=220)\n",
        "        text = canvas4.create_text(170, 20, text='Know Your Driving License Status', font=('boldface', 14, 'italic'))\n",
        "\n",
        "        a = Label(canvas3, text='Driving Licence No.*', bg='light gray', fg='black',\n",
        "                  font=('Helvetica bold', 13, 'italic')).place(x=300, y=70)\n",
        "        b = Label(canvas3, text=\"Date Of Birth*\", bg='light gray', fg='black',\n",
        "                  font=('Helvetica bold', 13, 'italic')).place(x=300, y=130)\n",
        "        c = Label(canvas3, text=\"Enter Verification Code*\", bg='light gray', fg='black',\n",
        "                  font=('Helvetica bold', 13, 'italic')).place(x=300, y=190)\n",
        "        dlentry = Entry(canvas3, width=25,)\n",
        "        dobentry = Entry(canvas3)\n",
        "        captchaentry = Entry(canvas3)\n",
        "\n",
        "        var1 = IntVar()\n",
        "        c12 = Checkbutton(canvas3, text='Click to Agree T & C ', variable=var1, onvalue=1, offvalue=0, bg=\"light gray\")\n",
        "\n",
        "        # Driving license Number should be -- FIRST TWO CAPITAL LETTER -- THEN SPACE OR hyphen -- two numbers\n",
        "        # -- YEAR 19 OR 20 AND A NUMBER FROM 0-9 ALSO A NUMBER FROM 0-9 -- 0-9 7 NUMBERS  ex- HR-0619850034761\n",
        "        def isValidLicenseNo(str):\n",
        "            regex = (\"^(([A-Z]{2}[0-9]{2})\" +\n",
        "                     \"( )|([A-Z]{2}-[0-9]\" +\n",
        "                     \"{2}))((19|20)[0-9]\" +\n",
        "                     \"[0-9])[0-9]{7}$\")\n",
        "            p = re.compile(regex)\n",
        "            if (len(str) == 0):\n",
        "                return messagebox.showwarning(\"showwarning\", \"Enter DL number\")\n",
        "            elif (re.search(p, str)):\n",
        "                return True\n",
        "            else:\n",
        "                return messagebox.showwarning(\"showwarning\", \"INVALID DL NUMBER\")\n",
        "\n",
        "        def isvaliddob(str1):\n",
        "            regex = (\"^(([0-9]{2})\" +\n",
        "                     \"-([0-9]\" +\n",
        "                     \"{2}))-((19|20)[0-9]\" +\n",
        "                     \"[0-9])$\")\n",
        "            p = re.compile(regex)\n",
        "            if (len(str1) == 0):\n",
        "                return messagebox.showwarning(\"showwarning\", \"Enter Date of Birth\")\n",
        "            elif (re.search(p, str1)):\n",
        "                return True\n",
        "            else:\n",
        "                return messagebox.showwarning(\"showwarning\", \"INVALID Date of Birth\")\n",
        "\n",
        "        def isvalidcaptcha(str2):\n",
        "            print(2)\n",
        "\n",
        "        def isclicked(str3):\n",
        "            if (str3 == 1):\n",
        "                return 1\n",
        "            else:\n",
        "                return messagebox.showwarning(\"Showwarning\", \"Click Checkbox\")\n",
        "\n",
        "        def check():\n",
        "            text = dlentry.get()\n",
        "            print(text)\n",
        "            isValidLicenseNo(text)\n",
        "            textdob = dobentry.get()\n",
        "            print(textdob)\n",
        "            isvaliddob(textdob)\n",
        "            textcaptcha = captchaentry.get()\n",
        "            print(textcaptcha)\n",
        "            isvalidcaptcha(textcaptcha)\n",
        "            click = var1.get()\n",
        "            print(click)\n",
        "            isclicked(click)\n",
        "\n",
        "        def reset():\n",
        "            photo2 = PhotoImage(file=r\"C:\\Users\\DELL\\PycharmProjects\\DRIVING LICENSE\\images\\5.jpg\")\n",
        "            imggs = Label(self.window, image=photo2)\n",
        "            imggs.configure(height=50, width=130)\n",
        "\n",
        "        btn7 = Button(canvas3, text='Check Status', width=10,\n",
        "                      height=1, bg='blue', fg='white', activebackground='black', command=check, font=('bold', 12))\n",
        "        btn7.place(x=500, y=250)\n",
        "\n",
        "        btn8 = Button(canvas3, text='Reset', width=8,\n",
        "                      height=1, bg='blue', fg='white', activebackground='black', command=reset, font=('bold', 12))\n",
        "        btn8.place(x=620, y=250)\n",
        "\n",
        "        photo2 = PhotoImage(file=r\"C:\\Users\\DELL\\PycharmProjects\\DRIVING LICENSE\\images\\4.jpg\")\n",
        "        imgg = Label(self.window, image=photo2)\n",
        "        imgg.configure(height=50, width=130)\n",
        "\n",
        "        dlentry.place(x=500, y=70)\n",
        "        dobentry.place(x=500, y=130)\n",
        "        captchaentry.place(x=650, y=190)\n",
        "\n",
        "        imgg.place(x=600, y=370)\n",
        "        logo.place(x=100, y=60)\n",
        "        # flag.place(x = 900, y = 30)\n",
        "        c12.place(x=500, y=220)\n",
        "\n",
        "        canvas5 = Canvas(relief=RIDGE, background='white', height=220, width=1090)\n",
        "        note = Label(canvas5, text=\"Note :- \", bg='white', fg='black', font=('Helvetica 13 bold')).place(x=5, y=20)\n",
        "        longtext = Label(canvas5,\n",
        "                         text=\"Driving Licence number can be entered in any of the following formats: DL-1420110012345 or DL14 20110012345\",\n",
        "                         fg=\"red\", bg='white', font=('italic', 10))\n",
        "        longtext1 = Label(canvas5,\n",
        "                          text=\"Total number of input characters should be exactly 16 (including space or '-').\",\n",
        "                          fg=\"red\", bg='white', font=('italic', 10))\n",
        "        longtext2 = Label(canvas5,\n",
        "                          text=\"If you hold an old driving license with a different format, please convert the format as per below rule before entering\",\n",
        "                          fg=\"red\", bg='white', font=('italic', 10))\n",
        "        longtext3 = Label(canvas5, text=\"SS-RRYYYYNNNNNNN OR SSRR YYYYNNNNNNN\", fg=\"red\", bg='white',\n",
        "                          font=('italic', 10))\n",
        "        longtext4 = Label(canvas5,\n",
        "                          text=\"Where SS - Two character State Code (like RJ for Rajasthan, TN for Tamil Nadu etc)\",\n",
        "                          fg=\"red\", bg='white', font=('italic', 10))\n",
        "        longtext5 = Label(canvas5, text=\"RR - Two digit RTO Code\", fg=\"red\", bg='white', font=('italic', 10))\n",
        "        longtext6 = Label(canvas5,\n",
        "                          text=\"YYYY - 4-digit Year of Issue (For Example: If year is mentioned in 2 digits, say 99, then it should be converted to 1999. Similarly use 2012 for 12)\",\n",
        "                          fg=\"red\", bg='white', font=('italic', 10))\n",
        "        longtext7 = Label(canvas5,\n",
        "                          text=\"Rest of the numbers are to be given in 7 digits. If there are less number of digits, then additional 0's(zeros) may be added to make the total 7.\",\n",
        "                          fg=\"red\", bg='white', font=('italic', 10))\n",
        "        longtext8 = Label(canvas5,\n",
        "                          text=\"For example: If the Driving Licence Number is RJ-13/DLC/12/ 123456 then please enter RJ-1320120123456 OR RJ13 20120123456\",\n",
        "                          fg=\"red\", bg='white', font=('italic', 10))\n",
        "\n",
        "        canvas5.place(x=110, y=500)\n",
        "        longtext.place(x=70, y=22)\n",
        "        longtext1.place(x=70, y=44)\n",
        "        longtext2.place(x=70, y=66)\n",
        "        longtext3.place(x=70, y=88)\n",
        "        longtext4.place(x=70, y=110)\n",
        "        longtext5.place(x=70, y=132)\n",
        "        longtext6.place(x=70, y=154)\n",
        "        longtext7.place(x=70, y=176)\n",
        "        longtext8.place(x=70, y=198)\n",
        "\n",
        "\n",
        "window = Tk()\n",
        "obj = DL(window)\n",
        "window.mainloop()"
      ],
      "metadata": {
        "id": "wKwdwNkMCyzA"
      },
      "execution_count": null,
      "outputs": []
    }
  ]
}