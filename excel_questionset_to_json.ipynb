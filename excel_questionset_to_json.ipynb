{
  "nbformat": 4,
  "nbformat_minor": 0,
  "metadata": {
    "colab": {
      "provenance": [],
      "authorship_tag": "ABX9TyPfCAronwnEJG51Lh16DoMX"
    },
    "kernelspec": {
      "name": "python3",
      "display_name": "Python 3"
    },
    "language_info": {
      "name": "python"
    }
  },
  "cells": [
    {
      "cell_type": "code",
      "execution_count": null,
      "metadata": {
        "id": "nJ7gwu7pY2Do"
      },
      "outputs": [],
      "source": [
        "import pandas as pd\n",
        "import json"
      ]
    },
    {
      "cell_type": "code",
      "source": [
        "# Read the Excel file\n",
        "data = pd.read_excel('questions.xlsx')"
      ],
      "metadata": {
        "id": "pZ9lOFwjZAy4"
      },
      "execution_count": null,
      "outputs": []
    },
    {
      "cell_type": "code",
      "source": [
        "# Convert the data to a list of dictionaries\n",
        "questions = []\n",
        "for _, row in data.iterrows():\n",
        "    question = {\n",
        "        \"question\": row[\"Question\"],\n",
        "        \"options\": [\n",
        "            row[\"Option 1\"],\n",
        "            row[\"Option 2\"],\n",
        "            row[\"Option 3\"],\n",
        "            row[\"Option 4\"]\n",
        "        ],\n",
        "        \"answer\": int(row[\"Answer\"])\n",
        "    }\n",
        "    questions.append(question)"
      ],
      "metadata": {
        "id": "iLC_ha9DZz1u"
      },
      "execution_count": null,
      "outputs": []
    },
    {
      "cell_type": "code",
      "source": [
        "# Create a dictionary with the \"questions\" parent node\n",
        "json_data = {\n",
        "    \"questions\": questions\n",
        "}"
      ],
      "metadata": {
        "id": "6527y-6GZ24m"
      },
      "execution_count": null,
      "outputs": []
    },
    {
      "cell_type": "code",
      "source": [
        "# Convert the dictionary to JSON using UTF-8 encoding\n",
        "json_output = json.dumps(json_data, indent=4, ensure_ascii=False).encode('utf-8').decode('utf-8')"
      ],
      "metadata": {
        "id": "s4RbZwL0ajZt"
      },
      "execution_count": null,
      "outputs": []
    },
    {
      "cell_type": "code",
      "source": [
        "# Save the JSON to a file\n",
        "with open('questions.json', 'w', encoding='utf-8') as file:\n",
        "    file.write(json_output)"
      ],
      "metadata": {
        "id": "So6YMig1Z5ZA"
      },
      "execution_count": null,
      "outputs": []
    }
  ]
}